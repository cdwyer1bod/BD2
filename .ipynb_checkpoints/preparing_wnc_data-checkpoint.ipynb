{
 "cells": [
  {
   "cell_type": "code",
   "execution_count": 8,
   "metadata": {},
   "outputs": [],
   "source": [
    "import numpy as np\n",
    "import pandas as pd"
   ]
  },
  {
   "cell_type": "code",
   "execution_count": 1,
   "metadata": {},
   "outputs": [
    {
     "name": "stderr",
     "output_type": "stream",
     "text": [
      "b'Skipping line 60908: expected 7 fields, saw 9\\n'\n"
     ]
    }
   ],
   "source": [
    "chrispath_neutral = '../bias_data_rpryzant/WNC/neutral.txt'\n",
    "chrispath_biasfull = '../bias_data_rpryzant/WNC/biased_full.txt'\n",
    "\n",
    "columns = [\"diff_id\", \"src_raw\", \"tgt_raw\"]\n",
    "wnc_n_data = pd.read_csv(chrispath_neutral, sep='\\t', header = 0).iloc[:,:3]\n",
    "wnc_n_data.columns = columns\n",
    "wnc_n_data['bias'] = 0\n",
    "\n",
    "columns = [\"diff_id\", \"src_raw\", \"tgt_raw\"]\n",
    "wnc_b_data = pd.read_csv(chrispath_biasfull, sep='\\t', header = 0, error_bad_lines = False).iloc[:,[0,3,4]]\n",
    "wnc_b_data.columns = columns\n",
    "wnc_b_data['bias'] = 1\n",
    "\n",
    "wnc_data = wnc_n_data.append(wnc_b_data, ignore_index= True)"
   ]
  },
  {
   "cell_type": "code",
   "execution_count": 2,
   "metadata": {},
   "outputs": [],
   "source": [
    "#wnc_data.to_csv('wnc_data.csv', index = False)"
   ]
  },
  {
   "cell_type": "code",
   "execution_count": 13,
   "metadata": {
    "scrolled": true
   },
   "outputs": [
    {
     "name": "stdout",
     "output_type": "stream",
     "text": [
      "181472 385526\n"
     ]
    }
   ],
   "source": [
    "print(len(np.where(wnc_data['bias']==1)[0]), len(np.where(wnc_data['bias']==0)[0]))\n",
    "# maybe cut out some neutral sentences to achieve 50/50 weighting of bias/unbias"
   ]
  },
  {
   "cell_type": "markdown",
   "metadata": {},
   "source": [
    "## Sentiment Feature Using Vader"
   ]
  },
  {
   "cell_type": "code",
   "execution_count": 27,
   "metadata": {},
   "outputs": [
    {
     "data": {
      "text/plain": [
       "\"{'neg': 0.636, 'neu': 0.364, 'pos': 0.0, 'compound': -0.5423}\""
      ]
     },
     "execution_count": 27,
     "metadata": {},
     "output_type": "execute_result"
    }
   ],
   "source": [
    "import vaderSentiment\n",
    "from vaderSentiment.vaderSentiment import SentimentIntensityAnalyzer\n",
    "analyser = SentimentIntensityAnalyzer()\n",
    "def sentiment_analyzer_scores(sentence):\n",
    "    score = analyser.polarity_scores(sentence)\n",
    "    return str(score)\n",
    "sentiment_analyzer_scores(\"phone is bad\")"
   ]
  },
  {
   "cell_type": "code",
   "execution_count": null,
   "metadata": {},
   "outputs": [],
   "source": []
  },
  {
   "cell_type": "code",
   "execution_count": null,
   "metadata": {},
   "outputs": [],
   "source": []
  }
 ],
 "metadata": {
  "kernelspec": {
   "display_name": "Python 3",
   "language": "python",
   "name": "python3"
  },
  "language_info": {
   "codemirror_mode": {
    "name": "ipython",
    "version": 3
   },
   "file_extension": ".py",
   "mimetype": "text/x-python",
   "name": "python",
   "nbconvert_exporter": "python",
   "pygments_lexer": "ipython3",
   "version": "3.6.4"
  }
 },
 "nbformat": 4,
 "nbformat_minor": 4
}
