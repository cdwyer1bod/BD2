{
 "cells": [
  {
   "cell_type": "code",
   "execution_count": 38,
   "metadata": {},
   "outputs": [
    {
     "name": "stderr",
     "output_type": "stream",
     "text": [
      "b'Skipping line 60908: expected 7 fields, saw 9\\n'\n"
     ]
    }
   ],
   "source": [
    "import pandas as pd\n",
    "\n",
    "columns = [\"diff_id\", \"src_raw\", \"tgt_raw\"]\n",
    "wnc_n_data = pd.read_csv('./bias_data_raw/WNC/neutral', sep='\\t', header = 0).iloc[:,:3]\n",
    "wnc_n_data.columns = columns\n",
    "wnc_n_data['bias'] = 0\n",
    "\n",
    "columns = [\"diff_id\", \"src_raw\", \"tgt_raw\"]\n",
    "wnc_b_data = pd.read_csv('./bias_data_raw/WNC/biased.full', sep='\\t', header = 0, error_bad_lines = False).iloc[:,[0,3,4]]\n",
    "wnc_b_data.columns = columns\n",
    "wnc_b_data['bias'] = 1\n",
    "\n",
    "wnc_data = wnc_n_data.append(wnc_b_data, ignore_index= True)"
   ]
  },
  {
   "cell_type": "code",
   "execution_count": 40,
   "metadata": {},
   "outputs": [],
   "source": [
    "wnc_data.to_csv('wnc_data.csv', index = False)"
   ]
  },
  {
   "cell_type": "code",
   "execution_count": null,
   "metadata": {
    "scrolled": true
   },
   "outputs": [],
   "source": []
  },
  {
   "cell_type": "code",
   "execution_count": null,
   "metadata": {},
   "outputs": [],
   "source": []
  }
 ],
 "metadata": {
  "kernelspec": {
   "display_name": "Python 3",
   "language": "python",
   "name": "python3"
  },
  "language_info": {
   "codemirror_mode": {
    "name": "ipython",
    "version": 3
   },
   "file_extension": ".py",
   "mimetype": "text/x-python",
   "name": "python",
   "nbconvert_exporter": "python",
   "pygments_lexer": "ipython3",
   "version": "3.7.6"
  }
 },
 "nbformat": 4,
 "nbformat_minor": 4
}
